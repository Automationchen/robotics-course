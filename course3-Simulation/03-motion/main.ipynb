{
 "cells": [
  {
   "cell_type": "markdown",
   "metadata": {},
   "source": [
    "## Using Komo for IK"
   ]
  },
  {
   "cell_type": "code",
   "execution_count": 53,
   "metadata": {},
   "outputs": [],
   "source": [
    "import sys\n",
    "sys.path.append('../../build') #rai/lib')\n",
    "import numpy as np\n",
    "import libry as ry"
   ]
  },
  {
   "cell_type": "code",
   "execution_count": 35,
   "metadata": {},
   "outputs": [],
   "source": [
    "#-- MODEL WORLD configuration, this is the data structure on which you represent\n",
    "# what you know about the world and compute things (controls, contacts, etc)\n",
    "C = ry.Config()\n",
    "#D = C.view() #rather use the ConfiguratioViewer below\n",
    "C.addFile(\"../../scenarios/pandasTable.g\")"
   ]
  },
  {
   "cell_type": "code",
   "execution_count": 36,
   "metadata": {},
   "outputs": [],
   "source": [
    "#-- using the viewer, you can view configurations or paths\n",
    "V = ry.ConfigurationViewer()\n",
    "V.setConfiguration(C)"
   ]
  },
  {
   "cell_type": "code",
   "execution_count": 37,
   "metadata": {},
   "outputs": [],
   "source": [
    "# add a new frame to the MODEL configuration\n",
    "# (Perception will later have to do exactly this: add perceived objects to the model)\n",
    "obj = C.addFrame(\"object\")"
   ]
  },
  {
   "cell_type": "code",
   "execution_count": 38,
   "metadata": {},
   "outputs": [],
   "source": [
    "# set frame parameters, associate a shape to the frame, \n",
    "obj.setPosition([.8,0,1.5])\n",
    "obj.setQuaternion([1,0,.5,0])\n",
    "obj.setShape(ry.ST.capsule, [.2,.02])\n",
    "obj.setColor([1,0,1])\n",
    "V.setConfiguration(C)\n",
    "# V.recopyMeshes(C) #this is rarely necessary, only when you change meshes within C"
   ]
  },
  {
   "cell_type": "code",
   "execution_count": 43,
   "metadata": {},
   "outputs": [],
   "source": [
    "IK = C.komo_IK(False)\n",
    "IK.addObjective(type=ry.OT.sos, feature=ry.FS.positionDiff, frames=['R_gripperCenter', 'object'])"
   ]
  },
  {
   "cell_type": "code",
   "execution_count": 44,
   "metadata": {},
   "outputs": [
    {
     "data": {
      "text/plain": [
       "[{'x_dim': 320, 'T': 20, 'k_order': 2, 'tau': 0.5, 'useSwift': True},\n",
       " {'order': 0.0,\n",
       "  'type': 'eq',\n",
       "  'feature': 'QuaternionNorms',\n",
       "  'vars': [1, 1, 1, 1, 1, 1, 1, 1, 1, 1, 1, 1, 1, 1, 1, 1, 1, 1, 1, 1],\n",
       "  'eq_sumOfAbs': 0.0},\n",
       " {'order': 2.0,\n",
       "  'type': 'sos',\n",
       "  'feature': 'qItself#32',\n",
       "  'vars': [1, 1, 1, 1, 1, 1, 1, 1, 1, 1, 1, 1, 1, 1, 1, 1, 1, 1, 1, 1],\n",
       "  'sos_sumOfSqr': 0.118614494036232},\n",
       " {'order': 0.0,\n",
       "  'type': 'sos',\n",
       "  'feature': 'qItself#32',\n",
       "  'vars': [1, 1, 1, 1, 1, 1, 1, 1, 1, 1, 1, 1, 1, 1, 1, 1, 1, 1, 1, 1],\n",
       "  'sos_sumOfSqr': 0.0004539026017196094},\n",
       " {'order': 0.0,\n",
       "  'type': 'sos',\n",
       "  'feature': 'Default-0-posDiff-R_gripperCenter-object',\n",
       "  'vars': [1, 1, 1, 1, 1, 1, 1, 1, 1, 1, 1, 1, 1, 1, 1, 1, 1, 1, 1, 1],\n",
       "  'sos_sumOfSqr': 0.3674662141495262}]"
      ]
     },
     "execution_count": 44,
     "metadata": {},
     "output_type": "execute_result"
    }
   ],
   "source": [
    "# Calling the optimizer (True means random initialization/restart)\n",
    "IK.optimize(True)\n",
    "IK.getReport()"
   ]
  },
  {
   "cell_type": "code",
   "execution_count": 57,
   "metadata": {},
   "outputs": [],
   "source": [
    "C.setFrameState( IK.getConfiguration(0) )\n",
    "V.setConfiguration(C) #to update your model display"
   ]
  },
  {
   "cell_type": "code",
   "execution_count": 140,
   "metadata": {},
   "outputs": [
    {
     "name": "stdout",
     "output_type": "stream",
     "text": [
      "[{'x_dim': 320, 'T': 20, 'k_order': 2, 'tau': 0.5, 'useSwift': True}, {'order': 0.0, 'type': 'eq', 'feature': 'QuaternionNorms', 'vars': [1, 1, 1, 1, 1, 1, 1, 1, 1, 1, 1, 1, 1, 1, 1, 1, 1, 1, 1, 1], 'eq_sumOfAbs': 0.0}, {'order': 2.0, 'type': 'sos', 'feature': 'qItself#32', 'vars': [1, 1, 1, 1, 1, 1, 1, 1, 1, 1, 1, 1, 1, 1, 1, 1, 1, 1, 1, 1], 'sos_sumOfSqr': 1.04635464428218e-05}, {'order': 0.0, 'type': 'sos', 'feature': 'qItself#32', 'vars': [1, 1, 1, 1, 1, 1, 1, 1, 1, 1, 1, 1, 1, 1, 1, 1, 1, 1, 1, 1], 'sos_sumOfSqr': 0.0015205517268362997}, {'order': 0.0, 'type': 'sos', 'feature': 'Default-0-posDiff-R_gripperCenter-object', 'vars': [1, 1, 1, 1, 1, 1, 1, 1, 1, 1, 1, 1, 1, 1, 1, 1, 1, 1, 1, 1], 'sos_sumOfSqr': 0.0032364231210582043}]\n"
     ]
    }
   ],
   "source": [
    "# move object\n",
    "obj.setPosition([.2,.2,1.5])\n",
    "\n",
    "# copy C into the IK's internal configuration(s)\n",
    "IK.setConfigurations(C)\n",
    "\n",
    "# reoptimize\n",
    "IK.optimize(False) # False indicates: no adding of noise for a random restart\n",
    "print(IK.getReport())\n",
    "\n",
    "# grab result\n",
    "C.setFrameState( IK.getConfiguration(0) )\n",
    "V.setConfiguration(C) #to update your model display"
   ]
  },
  {
   "cell_type": "markdown",
   "metadata": {},
   "source": [
    "## Path Optimization"
   ]
  },
  {
   "cell_type": "code",
   "execution_count": 175,
   "metadata": {},
   "outputs": [
    {
     "data": {
      "text/plain": [
       "[{'x_dim': 320, 'T': 20, 'k_order': 2, 'tau': 0.05, 'useSwift': True},\n",
       " {'order': 0.0,\n",
       "  'type': 'eq',\n",
       "  'feature': 'QuaternionNorms',\n",
       "  'vars': [1, 1, 1, 1, 1, 1, 1, 1, 1, 1, 1, 1, 1, 1, 1, 1, 1, 1, 1, 1],\n",
       "  'eq_sumOfAbs': 0.0},\n",
       " {'order': 2.0,\n",
       "  'type': 'sos',\n",
       "  'feature': 'qItself#32',\n",
       "  'vars': [1, 1, 1, 1, 1, 1, 1, 1, 1, 1, 1, 1, 1, 1, 1, 1, 1, 1, 1, 1],\n",
       "  'sos_sumOfSqr': 0.0004133610225569579},\n",
       " {'order': 0.0,\n",
       "  'type': 'sos',\n",
       "  'feature': 'qItself#32',\n",
       "  'vars': [1, 1, 1, 1, 1, 1, 1, 1, 1, 1, 1, 1, 1, 1, 1, 1, 1, 1, 1, 1],\n",
       "  'sos_sumOfSqr': 0.0001518065400876826},\n",
       " {'order': 0.0,\n",
       "  'type': 'sos',\n",
       "  'feature': 'Default-0-posDiff-R_gripperCenter-object',\n",
       "  'vars': [1, 1, 1, 1, 1, 1, 1, 1, 1, 1, 1, 1, 1, 1, 1, 1, 1, 1, 1, 1],\n",
       "  'sos_sumOfSqr': 0.07184927382185888}]"
      ]
     },
     "execution_count": 175,
     "metadata": {},
     "output_type": "execute_result"
    }
   ],
   "source": [
    "obj.setPosition([.8,.2,1.5])\n",
    "\n",
    "# we want to optimize a single step (1 phase, 1 step/phase, duration=1, k_order=1)\n",
    "komo = C.komo_path(1.,20, 1., True) \n",
    "komo.addObjective(type=ry.OT.sos, feature=ry.FS.positionDiff, frames=['R_gripperCenter', 'object'], scale=[1e-1])\n",
    "\n",
    "komo.optimize(True)\n",
    "komo.getReport()"
   ]
  },
  {
   "cell_type": "code",
   "execution_count": 176,
   "metadata": {},
   "outputs": [],
   "source": [
    "V = komo.view()\n",
    "V.playVideo()"
   ]
  }
 ],
 "metadata": {
  "kernelspec": {
   "display_name": "Python 3",
   "language": "python",
   "name": "python3"
  },
  "language_info": {
   "codemirror_mode": {
    "name": "ipython",
    "version": 3
   },
   "file_extension": ".py",
   "mimetype": "text/x-python",
   "name": "python",
   "nbconvert_exporter": "python",
   "pygments_lexer": "ipython3",
   "version": "3.6.9"
  }
 },
 "nbformat": 4,
 "nbformat_minor": 4
}
